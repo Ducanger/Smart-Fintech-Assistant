{
 "cells": [
  {
   "cell_type": "code",
   "execution_count": 1,
   "metadata": {},
   "outputs": [
    {
     "name": "stdout",
     "output_type": "stream",
     "text": [
      "180\n"
     ]
    }
   ],
   "source": [
    "import pandas as pd\n",
    "def concat_data(dir='train/data'):\n",
    "    data = []\n",
    "    f = open(f\"{dir}/mess-label-1.txt\", \"r\", encoding='utf-8')\n",
    "    for l in f:\n",
    "        data.append([l[1:-2], 1])\n",
    "\n",
    "    f = open(f\"{dir}/mess-label-0.txt\", \"r\", encoding='utf-8')\n",
    "    for l in f:\n",
    "      \tdata.append([l[1:-2], 0])\n",
    "\n",
    "    f = open(f\"{dir}/mess-normal.txt\", \"r\", encoding='utf-8')\n",
    "    for l in f:\n",
    "      \tdata.append([l.strip(), 0])\n",
    "\n",
    "    f = open(f\"{dir}/mess-acronym.txt\", \"r\", encoding='utf-8')\n",
    "    for l in f:\n",
    "        data.append([l.split('\"')[1], l.split(\"'\")[1]])\n",
    "\n",
    "    df = pd.DataFrame(data, columns=['text', 'label']).replace(\"không\", 0).replace(\"có\", 1)\n",
    "    df.to_csv(f\"{dir}/mess.csv\", index=False)\n",
    "    print(len(df))\n",
    "    \n",
    "concat_data(dir='data')"
   ]
  },
  {
   "cell_type": "code",
   "execution_count": 17,
   "metadata": {},
   "outputs": [],
   "source": [
    "def get_list_bank(data_path):\n",
    "    f = open(data_path, \"r\", encoding='utf-8')\n",
    "    lst_bank = []\n",
    "    for l in f:\n",
    "        s = l.strip()\n",
    "        if s.find(\"short_name\") != -1:\n",
    "            lst_bank.append(s.split('\"')[3])\n",
    "    with open('data/bank.txt', 'w') as f:\n",
    "        for line in lst_bank:\n",
    "            f.write(f\"{line}, {line.lower()}\\n\")\n",
    "# get_list_bank(\"data/bank_vietqr.txt\")\n"
   ]
  }
 ],
 "metadata": {
  "kernelspec": {
   "display_name": "Python 3",
   "language": "python",
   "name": "python3"
  },
  "language_info": {
   "codemirror_mode": {
    "name": "ipython",
    "version": 3
   },
   "file_extension": ".py",
   "mimetype": "text/x-python",
   "name": "python",
   "nbconvert_exporter": "python",
   "pygments_lexer": "ipython3",
   "version": "3.8.7"
  },
  "orig_nbformat": 4
 },
 "nbformat": 4,
 "nbformat_minor": 2
}
